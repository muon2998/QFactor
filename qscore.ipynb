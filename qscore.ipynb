{
 "cells": [
  {
   "cell_type": "markdown",
   "id": "8141d0fa-650e-4201-91f2-41fb1cc4f08c",
   "metadata": {
    "editable": true,
    "slideshow": {
     "slide_type": ""
    },
    "tags": []
   },
   "source": [
    "# Q Factor"
   ]
  },
  {
   "cell_type": "markdown",
   "id": "193853bb-9941-4b93-b452-f8da0ecac602",
   "metadata": {
    "editable": true,
    "slideshow": {
     "slide_type": ""
    },
    "tags": []
   },
   "source": [
    "## Reformat Data"
   ]
  },
  {
   "cell_type": "markdown",
   "id": "5280057a-b372-4766-ab6b-ecdb0f098e44",
   "metadata": {},
   "source": [
    "**Import the two data tables.**\n",
    "1. Table of all the relevant publications\n",
    "2. List of all the SCOPUS_ID for authors of interest"
   ]
  },
  {
   "cell_type": "code",
   "id": "f0883e34-360b-4142-b0a5-71239ac86eb0",
   "metadata": {
    "editable": true,
    "slideshow": {
     "slide_type": ""
    },
    "tags": [],
    "ExecuteTime": {
     "end_time": "2024-10-22T19:05:33.852055Z",
     "start_time": "2024-10-22T19:05:03.689046Z"
    }
   },
   "source": [
    "from heapq import merge\n",
    "\n",
    "import pandas as pd\n",
    "import matplotlib.pyplot as plt\n",
    "\n",
    "# Load the DataFrame from an Excel file\n",
    "df_all_works = pd.read_excel(\"Combined_Scopus_Published_Works.xlsx\")\n",
    "df_author_IDs = pd.read_excel(\"Scopus_IDs.xlsx\")\n",
    "\n",
    "print(\"There are %d authors, but %d non-duplicate authors.\" % (len(df_author_IDs),df_author_IDs['SCOPUS_ID'].nunique()))\n",
    "\n",
    "# Remove duplicate rows\n",
    "df_all_works = df_all_works.drop_duplicates()\n",
    "df_author_IDs = df_author_IDs.drop_duplicates()\n",
    "\n",
    "# View overview of the large publication dataset\n",
    "print(\"\\n\",df_all_works.describe())"
   ],
   "outputs": [
    {
     "name": "stdout",
     "output_type": "stream",
     "text": [
      "There are 1303 authors, but 1280 non-duplicate authors.\n",
      "\n",
      "              Authors               Author full names  Author(s) ID    Title  \\\n",
      "count          73088                           73089         73074    73074   \n",
      "unique         63657                           64328         63063    67400   \n",
      "top     Pollock B.E.  Pollock, Bruce E. (7103208372)    7103208372  Preface   \n",
      "freq             101                              91           101       52   \n",
      "\n",
      "         Year                                       Source title  Volume  \\\n",
      "count   73075                                              73069   70187   \n",
      "unique    110                                               4539    1090   \n",
      "top      2021  International Journal of Radiation Oncology Bi...       7   \n",
      "freq     4474                                               8055    1565   \n",
      "\n",
      "        Issue  Art. No.  Page start  ...     ISSN             ISBN    CODEN  \\\n",
      "count   64682      8734       63958  ...    67930             9441    50941   \n",
      "unique    917      6480        7958  ...     4616             7840     1885   \n",
      "top         1       507           1  ...  3603016  978-143771637-5  English   \n",
      "freq    10426        28         738  ...     7228               95     8605   \n",
      "\n",
      "       PubMed ID Language of Original Document Document Type  \\\n",
      "count      59231                         73053         68209   \n",
      "unique     50583                            58            63   \n",
      "top      Article                       English       Article   \n",
      "freq        6296                         64311         46222   \n",
      "\n",
      "       Publication Stage                         Open Access  Source       EID  \n",
      "count              73054                               37945   64447     64447  \n",
      "unique                47                                8660      44     64445  \n",
      "top                Final  All Open Access; Green Open Access  Scopus   Mekelle  \n",
      "freq               64024                                8499   64402         2  \n",
      "\n",
      "[4 rows x 33 columns]\n"
     ]
    }
   ],
   "execution_count": 1
  },
  {
   "cell_type": "code",
   "id": "32a45435-9112-45e9-9168-f949099794a6",
   "metadata": {
    "editable": true,
    "scrolled": true,
    "slideshow": {
     "slide_type": ""
    },
    "tags": [],
    "ExecuteTime": {
     "end_time": "2024-10-22T19:05:33.857963Z",
     "start_time": "2024-10-22T19:05:33.856069Z"
    }
   },
   "source": [],
   "outputs": [],
   "execution_count": null
  },
  {
   "cell_type": "markdown",
   "id": "6f70f5bf-2697-4668-8073-3e7fa44c786e",
   "metadata": {
    "editable": true,
    "slideshow": {
     "slide_type": ""
    },
    "tags": []
   },
   "source": [
    "Create a new data table which takes all the authors' Scopus IDs, and lists all the publications and associated information for which they are listed."
   ]
  },
  {
   "cell_type": "code",
   "id": "55be7ef7-ecaa-445b-9ac3-eb319618c11e",
   "metadata": {
    "editable": true,
    "slideshow": {
     "slide_type": ""
    },
    "tags": [],
    "ExecuteTime": {
     "end_time": "2024-10-22T19:06:02.484384Z",
     "start_time": "2024-10-22T19:05:34.176165Z"
    }
   },
   "source": [
    "# Convert SCOPUS_ID (i.e., author ID) from integer to string type\n",
    "df_author_IDs['SCOPUS_ID'] = df_author_IDs['SCOPUS_ID'].astype(str)\n",
    "\n",
    "# Copy column that contains author IDs into a new column called 'All_Authors'\n",
    "df_all_works['All_Authors'] = df_all_works['Author(s) ID']\n",
    "\n",
    "# Split the 'Author(s) ID' column into separate rows in the all_works dataframe\n",
    "# This will allow us to use merge to match the list of author IDs we have to their associated published works\n",
    "df_all_works = df_all_works.assign(**{'Author(s) ID': df_all_works['Author(s) ID'].str.split('; ')}).explode('Author(s) ID')\n",
    "\n",
    "# Match the SCOPUS_IDs from our desired list to the Author_IDs in publication dataset (all_works) to make a new dataset with merged data\n",
    "merged_data = pd.merge(df_author_IDs, df_all_works, left_on='SCOPUS_ID', right_on='Author(s) ID', how='inner')\n",
    "\n",
    "# List of columns we want to keep in the merged data set\n",
    "desired_columns = ['SCOPUS_ID','Author full names','Author(s) ID','Title','Year','Source title','Cited by','DOI','Link','Authors with affiliations','Publisher','PubMed ID','Document Type','All_Authors'\n",
    "                  ]\n",
    "merged_data = merged_data[desired_columns]\n",
    "\n",
    "#Filter desired columns for output and create Excel file\n",
    "merged_data.to_excel('merged_dataframe.xlsx', index=False)\n",
    "merged_data.describe()"
   ],
   "outputs": [
    {
     "data": {
      "text/plain": [
       "          SCOPUS_ID                                  Author full names  \\\n",
       "count        125743                                             125743   \n",
       "unique         1263                                              63195   \n",
       "top     35403900900  Hahn, Elizabeth A. (7202056032); Pugh, Stephan...   \n",
       "freq           1139                                                130   \n",
       "\n",
       "       Author(s) ID                                              Title  \\\n",
       "count        125743                                             125742   \n",
       "unique         1263                                              64747   \n",
       "top     35403900900  Validation of Patient-Reported Outcomes in Pat...   \n",
       "freq           1139                                                130   \n",
       "\n",
       "          Year                                       Source title  Cited by  \\\n",
       "count   125743                                             125738    125743   \n",
       "unique      61                                               4344       964   \n",
       "top       2021  International Journal of Radiation Oncology Bi...         0   \n",
       "freq      9299                                              18546     14796   \n",
       "\n",
       "                                 DOI  \\\n",
       "count                         120915   \n",
       "unique                         62032   \n",
       "top     10.1016/j.ijrobp.2024.03.020   \n",
       "freq                             130   \n",
       "\n",
       "                                                     Link  \\\n",
       "count                                              125743   \n",
       "unique                                              65452   \n",
       "top     https://www.scopus.com/inward/record.uri?eid=2...   \n",
       "freq                                                  130   \n",
       "\n",
       "                                Authors with affiliations      Publisher  \\\n",
       "count                                              123936          74290   \n",
       "unique                                              63904            744   \n",
       "top     Hahn E.A., Department of Medical Social Scienc...  Elsevier Inc.   \n",
       "freq                                                  130          17921   \n",
       "\n",
       "       PubMed ID Document Type  \\\n",
       "count     104792        115708   \n",
       "unique     49052            19   \n",
       "top      Article       Article   \n",
       "freq       15984         79586   \n",
       "\n",
       "                                              All_Authors  \n",
       "count                                              125743  \n",
       "unique                                              62248  \n",
       "top     7202056032; 55751695500; 26026423600; 57191992...  \n",
       "freq                                                  130  "
      ],
      "text/html": [
       "<div>\n",
       "<style scoped>\n",
       "    .dataframe tbody tr th:only-of-type {\n",
       "        vertical-align: middle;\n",
       "    }\n",
       "\n",
       "    .dataframe tbody tr th {\n",
       "        vertical-align: top;\n",
       "    }\n",
       "\n",
       "    .dataframe thead th {\n",
       "        text-align: right;\n",
       "    }\n",
       "</style>\n",
       "<table border=\"1\" class=\"dataframe\">\n",
       "  <thead>\n",
       "    <tr style=\"text-align: right;\">\n",
       "      <th></th>\n",
       "      <th>SCOPUS_ID</th>\n",
       "      <th>Author full names</th>\n",
       "      <th>Author(s) ID</th>\n",
       "      <th>Title</th>\n",
       "      <th>Year</th>\n",
       "      <th>Source title</th>\n",
       "      <th>Cited by</th>\n",
       "      <th>DOI</th>\n",
       "      <th>Link</th>\n",
       "      <th>Authors with affiliations</th>\n",
       "      <th>Publisher</th>\n",
       "      <th>PubMed ID</th>\n",
       "      <th>Document Type</th>\n",
       "      <th>All_Authors</th>\n",
       "    </tr>\n",
       "  </thead>\n",
       "  <tbody>\n",
       "    <tr>\n",
       "      <th>count</th>\n",
       "      <td>125743</td>\n",
       "      <td>125743</td>\n",
       "      <td>125743</td>\n",
       "      <td>125742</td>\n",
       "      <td>125743</td>\n",
       "      <td>125738</td>\n",
       "      <td>125743</td>\n",
       "      <td>120915</td>\n",
       "      <td>125743</td>\n",
       "      <td>123936</td>\n",
       "      <td>74290</td>\n",
       "      <td>104792</td>\n",
       "      <td>115708</td>\n",
       "      <td>125743</td>\n",
       "    </tr>\n",
       "    <tr>\n",
       "      <th>unique</th>\n",
       "      <td>1263</td>\n",
       "      <td>63195</td>\n",
       "      <td>1263</td>\n",
       "      <td>64747</td>\n",
       "      <td>61</td>\n",
       "      <td>4344</td>\n",
       "      <td>964</td>\n",
       "      <td>62032</td>\n",
       "      <td>65452</td>\n",
       "      <td>63904</td>\n",
       "      <td>744</td>\n",
       "      <td>49052</td>\n",
       "      <td>19</td>\n",
       "      <td>62248</td>\n",
       "    </tr>\n",
       "    <tr>\n",
       "      <th>top</th>\n",
       "      <td>35403900900</td>\n",
       "      <td>Hahn, Elizabeth A. (7202056032); Pugh, Stephan...</td>\n",
       "      <td>35403900900</td>\n",
       "      <td>Validation of Patient-Reported Outcomes in Pat...</td>\n",
       "      <td>2021</td>\n",
       "      <td>International Journal of Radiation Oncology Bi...</td>\n",
       "      <td>0</td>\n",
       "      <td>10.1016/j.ijrobp.2024.03.020</td>\n",
       "      <td>https://www.scopus.com/inward/record.uri?eid=2...</td>\n",
       "      <td>Hahn E.A., Department of Medical Social Scienc...</td>\n",
       "      <td>Elsevier Inc.</td>\n",
       "      <td>Article</td>\n",
       "      <td>Article</td>\n",
       "      <td>7202056032; 55751695500; 26026423600; 57191992...</td>\n",
       "    </tr>\n",
       "    <tr>\n",
       "      <th>freq</th>\n",
       "      <td>1139</td>\n",
       "      <td>130</td>\n",
       "      <td>1139</td>\n",
       "      <td>130</td>\n",
       "      <td>9299</td>\n",
       "      <td>18546</td>\n",
       "      <td>14796</td>\n",
       "      <td>130</td>\n",
       "      <td>130</td>\n",
       "      <td>130</td>\n",
       "      <td>17921</td>\n",
       "      <td>15984</td>\n",
       "      <td>79586</td>\n",
       "      <td>130</td>\n",
       "    </tr>\n",
       "  </tbody>\n",
       "</table>\n",
       "</div>"
      ]
     },
     "execution_count": 2,
     "metadata": {},
     "output_type": "execute_result"
    }
   ],
   "execution_count": 2
  },
  {
   "metadata": {},
   "cell_type": "markdown",
   "source": [
    "## Examine data characteristics\n",
    "- Determine total number of authors and publications\n",
    "- Visualize publications per year"
   ],
   "id": "fbf05b73df12c66"
  },
  {
   "metadata": {
    "ExecuteTime": {
     "end_time": "2024-10-22T19:06:03.152949Z",
     "start_time": "2024-10-22T19:06:02.830167Z"
    }
   },
   "cell_type": "code",
   "source": [
    "# Number of unique authors and publications\n",
    "unique_authors = merged_data['SCOPUS_ID'].nunique()\n",
    "unique_publications = merged_data['Title'].nunique()\n",
    "\n",
    "print(f\"Number of distinct authors: {unique_authors}.\"\n",
    "      f\"\\nNumber of distinct publications: {unique_publications}.\"\n",
    "      )\n",
    "\n",
    "# See the number of publications per year\n",
    "# Filter the DataFrame to only include years from {year} onwards\n",
    "filtered_data = merged_data[merged_data['Year'] >= 2000]\n",
    "# Group by 'Year' and count unique 'Title' values to get publications per year\n",
    "unique_titles_per_year = filtered_data.groupby('Year')['Title'].nunique().reset_index()\n",
    "\n",
    "# Plotting\n",
    "unique_titles_per_year.plot(kind='bar', x='Year', y='Title', figsize=(10, 6), color='skyblue', legend=False)\n",
    "plt.xlabel('Year')\n",
    "plt.ylabel('Number of Publications')\n",
    "plt.title(' Publications by Year')\n",
    "plt.xticks(rotation=45)\n",
    "plt.grid(axis='y')\n",
    "plt.tight_layout()"
   ],
   "id": "64dbcda70b7a7671",
   "outputs": [
    {
     "name": "stdout",
     "output_type": "stream",
     "text": [
      "Number of distinct authors: 1263.\n",
      "Number of distinct publications: 64747.\n"
     ]
    },
    {
     "data": {
      "text/plain": [
       "<Figure size 1000x600 with 1 Axes>"
      ],
      "image/png": "[encoded data removed]"
     },
     "metadata": {},
     "output_type": "display_data"
    }
   ],
   "execution_count": 3
  },
  {
   "metadata": {},
   "cell_type": "markdown",
   "source": "",
   "id": "be05311fb628e886"
  },
  {
   "metadata": {},
   "cell_type": "markdown",
   "source": "",
   "id": "82d29bb0c1263d3"
  },
  {
   "metadata": {},
   "cell_type": "markdown",
   "source": [
    "- Confirm that the data in citations column are integers and without missing values.\n",
    "- Calculate number of citations per author\n",
    "- Calculate number of publications per author"
   ],
   "id": "a3c13688a36440ca"
  },
  {
   "metadata": {
    "ExecuteTime": {
     "end_time": "2024-10-22T19:06:03.379958Z",
     "start_time": "2024-10-22T19:06:03.187704Z"
    }
   },
   "cell_type": "code",
   "source": [
    "### Confirm the citations column has values that are all integers\n",
    "all_integers = merged_data['Cited by'].apply(lambda x: isinstance(x, int)).all()\n",
    "print(f\"All values in citation column are integers: {all_integers}\")\n",
    "\n",
    "# Count the number of missing (NaN) and empty values\n",
    "missing_values = merged_data['Cited by'].isna().sum() + (merged_data['Cited by'] == '').sum()\n",
    "print(f\"Number of missing or empty values in citation column: {missing_values}\")\n",
    "\n",
    "### Calculate the average number of citations per author\n",
    "citations_per_author = merged_data.groupby('SCOPUS_ID')['Cited by'].mean()\n",
    "\n",
    "# Check that we have correct number of values\n",
    "assert len(citations_per_author) == unique_authors, \"The number of unique SCOPUS_IDs should be equal to number of unique authors.\"\n",
    "\n",
    "# Calculate the average of all the averages per author\n",
    "average_cited_by = citations_per_author.mean()\n",
    "citations_per_author.to_excel('citations_per_author.xlsx', index=False)\n",
    "print(f\"Average number of citations per author: {average_cited_by:.8f}\")\n",
    "\n",
    "### Count the number of publications per SCOPUS_ID (author)\n",
    "publications_per_author = merged_data['SCOPUS_ID'].value_counts().reset_index()\n",
    "\n",
    "# Rename columns for clarity\n",
    "publications_per_author.columns = ['SCOPUS_ID', 'Number_of_Publications']\n",
    "\n",
    "### Summary Statistics related to publications_per_author\n",
    "total_authors = publications_per_author['SCOPUS_ID'].nunique()\n",
    "pubs_info = publications_per_author['Number_of_Publications']\n",
    "\n",
    "# Display Summary Statistics\n",
    "summary_stats = {\n",
    "    'Total Number of Authors': total_authors,\n",
    "    'Average publications per author': pubs_info.mean(),\n",
    "    'Max': pubs_info.max(),\n",
    "    'Min': pubs_info.min(),\n",
    "    'SD': pubs_info.std(),\n",
    "    'Median': pubs_info.median(),\n",
    "}\n",
    "\n",
    "# Print the summary statistics\n",
    "for key, value in summary_stats.items():\n",
    "    print(f\"{key}: {value}\")\n",
    "\n",
    "# Saving statistics to Excel\n",
    "with pd.ExcelWriter('publications_per_author.xlsx') as writer:\n",
    "    publications_per_author.to_excel(writer, sheet_name='Publication Counts', index=False)\n",
    "    summary_stats_df = pd.DataFrame(list(summary_stats.items()), columns=['Statistic', 'Value'])\n",
    "    summary_stats_df.to_excel(writer, sheet_name='Summary Statistics', index=False)"
   ],
   "id": "e920e7f127b31218",
   "outputs": [
    {
     "name": "stdout",
     "output_type": "stream",
     "text": [
      "All values in citation column are integers: True\n",
      "Number of missing or empty values in citation column: 0\n",
      "Average number of citations per author: 37.82047526\n",
      "Total Number of Authors: 1263\n",
      "Average publications per author: 99.55898653998416\n",
      "Max: 1139\n",
      "Min: 1\n",
      "SD: 113.26881114434349\n",
      "Median: 62.0\n"
     ]
    }
   ],
   "execution_count": 4
  },
  {
   "cell_type": "markdown",
   "id": "2c32f15f-8468-4b12-91c5-a1165f192159",
   "metadata": {},
   "source": "## Calculate Q factor"
  },
  {
   "metadata": {
    "ExecuteTime": {
     "end_time": "2024-10-22T19:06:03.470278Z",
     "start_time": "2024-10-22T19:06:03.467036Z"
    }
   },
   "cell_type": "code",
   "source": "",
   "id": "7a8608adac23fdf4",
   "outputs": [],
   "execution_count": null
  }
 ],
 "metadata": {
  "kernelspec": {
   "display_name": "Python 3 (ipykernel)",
   "language": "python",
   "name": "python3"
  },
  "language_info": {
   "codemirror_mode": {
    "name": "ipython",
    "version": 3
   },
   "file_extension": ".py",
   "mimetype": "text/x-python",
   "name": "python",
   "nbconvert_exporter": "python",
   "pygments_lexer": "ipython3",
   "version": "3.12.3"
  }
 },
 "nbformat": 4,
 "nbformat_minor": 5
}
