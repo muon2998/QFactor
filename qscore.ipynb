{
 "cells": [
  {
   "cell_type": "markdown",
   "id": "8141d0fa-650e-4201-91f2-41fb1cc4f08c",
   "metadata": {
    "editable": true,
    "slideshow": {
     "slide_type": ""
    },
    "tags": []
   },
   "source": [
    "# Q Factor"
   ]
  },
  {
   "cell_type": "markdown",
   "id": "193853bb-9941-4b93-b452-f8da0ecac602",
   "metadata": {
    "editable": true,
    "slideshow": {
     "slide_type": ""
    },
    "tags": []
   },
   "source": [
    "## Reformat Data"
   ]
  },
  {
   "cell_type": "markdown",
   "id": "5280057a-b372-4766-ab6b-ecdb0f098e44",
   "metadata": {},
   "source": [
    "**Import the two data tables.**\n",
    "1. Table of all the relevant publications\n",
    "2. List of all the SCOPUS_ID for authors of interest"
   ]
  },
  {
   "cell_type": "code",
   "execution_count": 5,
   "id": "f0883e34-360b-4142-b0a5-71239ac86eb0",
   "metadata": {
    "editable": true,
    "slideshow": {
     "slide_type": ""
    },
    "tags": []
   },
   "outputs": [
    {
     "name": "stdout",
     "output_type": "stream",
     "text": [
      "There are 1303 authors.\n"
     ]
    }
   ],
   "source": [
    "import pandas as pd\n",
    "\n",
    "# Load the DataFrame from an Excel file\n",
    "df_all_works = pd.read_excel(\"Combined_Scopus_Published_Works.xlsx\")\n",
    "df_author_IDs = pd.read_excel(\"Scopus_IDs.xlsx\")\n",
    "\n",
    "print(\"There are\",len(df_author_IDs),\"authors.\")"
   ]
  },
  {
   "cell_type": "markdown",
   "id": "0b270653-67bc-4bed-b06e-986f418b88cb",
   "metadata": {},
   "source": [
    "Clean up the dataframes by **removing duplicate rows**, and briefly view the data."
   ]
  },
  {
   "cell_type": "code",
   "execution_count": 7,
   "id": "32a45435-9112-45e9-9168-f949099794a6",
   "metadata": {
    "editable": true,
    "scrolled": true,
    "slideshow": {
     "slide_type": ""
    },
    "tags": []
   },
   "outputs": [
    {
     "name": "stdout",
     "output_type": "stream",
     "text": [
      "There are 1280 authors.\n",
      "\n",
      "              Authors               Author full names  Author(s) ID    Title  \\\n",
      "count          73088                           73089         73074    73074   \n",
      "unique         63657                           64328         63063    67400   \n",
      "top     Pollock B.E.  Pollock, Bruce E. (7103208372)    7103208372  Preface   \n",
      "freq             101                              91           101       52   \n",
      "\n",
      "         Year                                       Source title  Volume  \\\n",
      "count   73075                                              73069   70187   \n",
      "unique    110                                               4539    1090   \n",
      "top      2021  International Journal of Radiation Oncology Bi...       7   \n",
      "freq     4474                                               8055    1565   \n",
      "\n",
      "        Issue  Art. No.  Page start  ...     ISSN             ISBN    CODEN  \\\n",
      "count   64682      8734       63958  ...    67930             9441    50941   \n",
      "unique    917      6480        7958  ...     4616             7840     1885   \n",
      "top         1       507           1  ...  3603016  978-143771637-5  English   \n",
      "freq    10426        28         738  ...     7228               95     8605   \n",
      "\n",
      "       PubMed ID Language of Original Document Document Type  \\\n",
      "count      59231                         73053         68209   \n",
      "unique     50583                            58            63   \n",
      "top      Article                       English       Article   \n",
      "freq        6296                         64311         46222   \n",
      "\n",
      "       Publication Stage                         Open Access  Source       EID  \n",
      "count              73054                               37945   64447     64447  \n",
      "unique                47                                8660      44     64445  \n",
      "top                Final  All Open Access; Green Open Access  Scopus   Mekelle  \n",
      "freq               64024                                8499   64402         2  \n",
      "\n",
      "[4 rows x 33 columns]\n"
     ]
    }
   ],
   "source": [
    "# Remove any duplicate rows\n",
    "df_all_works = df_all_works.drop_duplicates()\n",
    "df_author_IDs = df_author_IDs.drop_duplicates()\n",
    "\n",
    "print(\"There are\",len(df_author_IDs),\"non-duplicate authors.\")\n",
    "print(\"\\n\",df_all_works.describe())"
   ]
  },
  {
   "cell_type": "markdown",
   "id": "6f70f5bf-2697-4668-8073-3e7fa44c786e",
   "metadata": {
    "editable": true,
    "slideshow": {
     "slide_type": ""
    },
    "tags": []
   },
   "source": [
    "Create a new data table which takes all the authors' Scopus IDs, and lists all the publications and associated information for which they are listed."
   ]
  },
  {
   "cell_type": "code",
   "execution_count": 9,
   "id": "55be7ef7-ecaa-445b-9ac3-eb319618c11e",
   "metadata": {
    "editable": true,
    "slideshow": {
     "slide_type": ""
    },
    "tags": []
   },
   "outputs": [
    {
     "data": {
      "text/html": [
       "<div>\n",
       "<style scoped>\n",
       "    .dataframe tbody tr th:only-of-type {\n",
       "        vertical-align: middle;\n",
       "    }\n",
       "\n",
       "    .dataframe tbody tr th {\n",
       "        vertical-align: top;\n",
       "    }\n",
       "\n",
       "    .dataframe thead th {\n",
       "        text-align: right;\n",
       "    }\n",
       "</style>\n",
       "<table border=\"1\" class=\"dataframe\">\n",
       "  <thead>\n",
       "    <tr style=\"text-align: right;\">\n",
       "      <th></th>\n",
       "      <th>SCOPUS_ID</th>\n",
       "      <th>Authors</th>\n",
       "      <th>Author full names</th>\n",
       "      <th>Author(s) ID</th>\n",
       "      <th>Title</th>\n",
       "      <th>Year</th>\n",
       "      <th>Source title</th>\n",
       "      <th>Volume</th>\n",
       "      <th>Issue</th>\n",
       "      <th>Art. No.</th>\n",
       "      <th>...</th>\n",
       "      <th>ISBN</th>\n",
       "      <th>CODEN</th>\n",
       "      <th>PubMed ID</th>\n",
       "      <th>Language of Original Document</th>\n",
       "      <th>Document Type</th>\n",
       "      <th>Publication Stage</th>\n",
       "      <th>Open Access</th>\n",
       "      <th>Source</th>\n",
       "      <th>EID</th>\n",
       "      <th>All_Authors</th>\n",
       "    </tr>\n",
       "  </thead>\n",
       "  <tbody>\n",
       "    <tr>\n",
       "      <th>count</th>\n",
       "      <td>125743</td>\n",
       "      <td>125743</td>\n",
       "      <td>125743</td>\n",
       "      <td>125743</td>\n",
       "      <td>125742</td>\n",
       "      <td>125743</td>\n",
       "      <td>125738</td>\n",
       "      <td>121613</td>\n",
       "      <td>111522</td>\n",
       "      <td>15718</td>\n",
       "      <td>...</td>\n",
       "      <td>19626</td>\n",
       "      <td>89278</td>\n",
       "      <td>104792</td>\n",
       "      <td>125719</td>\n",
       "      <td>115708</td>\n",
       "      <td>125719</td>\n",
       "      <td>72035</td>\n",
       "      <td>105327</td>\n",
       "      <td>105327</td>\n",
       "      <td>125743</td>\n",
       "    </tr>\n",
       "    <tr>\n",
       "      <th>unique</th>\n",
       "      <td>1263</td>\n",
       "      <td>62709</td>\n",
       "      <td>63195</td>\n",
       "      <td>1263</td>\n",
       "      <td>64747</td>\n",
       "      <td>61</td>\n",
       "      <td>4344</td>\n",
       "      <td>1031</td>\n",
       "      <td>821</td>\n",
       "      <td>6367</td>\n",
       "      <td>...</td>\n",
       "      <td>7542</td>\n",
       "      <td>1808</td>\n",
       "      <td>49052</td>\n",
       "      <td>14</td>\n",
       "      <td>19</td>\n",
       "      <td>3</td>\n",
       "      <td>8236</td>\n",
       "      <td>1</td>\n",
       "      <td>61957</td>\n",
       "      <td>62248</td>\n",
       "    </tr>\n",
       "    <tr>\n",
       "      <th>top</th>\n",
       "      <td>35403900900</td>\n",
       "      <td>Hahn E.A.; Pugh S.L.; Lu H.L.; Vela A.M.; Gill...</td>\n",
       "      <td>Hahn, Elizabeth A. (7202056032); Pugh, Stephan...</td>\n",
       "      <td>35403900900</td>\n",
       "      <td>Validation of Patient-Reported Outcomes in Pat...</td>\n",
       "      <td>2021</td>\n",
       "      <td>International Journal of Radiation Oncology Bi...</td>\n",
       "      <td>7</td>\n",
       "      <td>1</td>\n",
       "      <td>507</td>\n",
       "      <td>...</td>\n",
       "      <td>978-143771637-5</td>\n",
       "      <td>English</td>\n",
       "      <td>Article</td>\n",
       "      <td>English</td>\n",
       "      <td>Article</td>\n",
       "      <td>Final</td>\n",
       "      <td>All Open Access; Green Open Access</td>\n",
       "      <td>Scopus</td>\n",
       "      <td>2-s2.0-85192746169</td>\n",
       "      <td>7202056032; 55751695500; 26026423600; 57191992...</td>\n",
       "    </tr>\n",
       "    <tr>\n",
       "      <th>freq</th>\n",
       "      <td>1139</td>\n",
       "      <td>130</td>\n",
       "      <td>130</td>\n",
       "      <td>1139</td>\n",
       "      <td>130</td>\n",
       "      <td>9299</td>\n",
       "      <td>18546</td>\n",
       "      <td>2975</td>\n",
       "      <td>18400</td>\n",
       "      <td>62</td>\n",
       "      <td>...</td>\n",
       "      <td>138</td>\n",
       "      <td>20390</td>\n",
       "      <td>15984</td>\n",
       "      <td>105229</td>\n",
       "      <td>79586</td>\n",
       "      <td>104575</td>\n",
       "      <td>15807</td>\n",
       "      <td>105327</td>\n",
       "      <td>65</td>\n",
       "      <td>130</td>\n",
       "    </tr>\n",
       "  </tbody>\n",
       "</table>\n",
       "<p>4 rows × 35 columns</p>\n",
       "</div>"
      ],
      "text/plain": [
       "          SCOPUS_ID                                            Authors  \\\n",
       "count        125743                                             125743   \n",
       "unique         1263                                              62709   \n",
       "top     35403900900  Hahn E.A.; Pugh S.L.; Lu H.L.; Vela A.M.; Gill...   \n",
       "freq           1139                                                130   \n",
       "\n",
       "                                        Author full names Author(s) ID  \\\n",
       "count                                              125743       125743   \n",
       "unique                                              63195         1263   \n",
       "top     Hahn, Elizabeth A. (7202056032); Pugh, Stephan...  35403900900   \n",
       "freq                                                  130         1139   \n",
       "\n",
       "                                                    Title    Year  \\\n",
       "count                                              125742  125743   \n",
       "unique                                              64747      61   \n",
       "top     Validation of Patient-Reported Outcomes in Pat...    2021   \n",
       "freq                                                  130    9299   \n",
       "\n",
       "                                             Source title  Volume   Issue  \\\n",
       "count                                              125738  121613  111522   \n",
       "unique                                               4344    1031     821   \n",
       "top     International Journal of Radiation Oncology Bi...       7       1   \n",
       "freq                                                18546    2975   18400   \n",
       "\n",
       "        Art. No.  ...             ISBN    CODEN  PubMed ID  \\\n",
       "count      15718  ...            19626    89278     104792   \n",
       "unique      6367  ...             7542     1808      49052   \n",
       "top          507  ...  978-143771637-5  English    Article   \n",
       "freq          62  ...              138    20390      15984   \n",
       "\n",
       "        Language of Original Document Document Type Publication Stage  \\\n",
       "count                          125719        115708            125719   \n",
       "unique                             14            19                 3   \n",
       "top                           English       Article             Final   \n",
       "freq                           105229         79586            104575   \n",
       "\n",
       "                               Open Access  Source                 EID  \\\n",
       "count                                72035  105327              105327   \n",
       "unique                                8236       1               61957   \n",
       "top     All Open Access; Green Open Access  Scopus  2-s2.0-85192746169   \n",
       "freq                                 15807  105327                  65   \n",
       "\n",
       "                                              All_Authors  \n",
       "count                                              125743  \n",
       "unique                                              62248  \n",
       "top     7202056032; 55751695500; 26026423600; 57191992...  \n",
       "freq                                                  130  \n",
       "\n",
       "[4 rows x 35 columns]"
      ]
     },
     "execution_count": 9,
     "metadata": {},
     "output_type": "execute_result"
    }
   ],
   "source": [
    "#Convert SCOPUS_ID from integer to string type\n",
    "df_author_IDs['SCOPUS_ID'] = df_author_IDs['SCOPUS_ID'].astype(str)\n",
    "\n",
    "#Copy column that contains author IDs into a new column called 'All_Authors'\n",
    "df_all_works['All_Authors'] = df_all_works['Author(s) ID']\n",
    "\n",
    "#Split the 'Author(s) ID' column into separate rows in the all_works dataframe\n",
    "df_all_works = df_all_works.assign(**{'Author(s) ID': df_all_works['Author(s) ID'].str.split('; ')}).explode('Author(s) ID')\n",
    "\n",
    "#Match the SCOPUS_IDs from list with the Author_IDs in publication dataset to make a new dataset with merged data\n",
    "merged_data = pd.merge(df_author_IDs, df_all_works, left_on='SCOPUS_ID', right_on='Author(s) ID', how='inner')\n",
    "\n",
    "merged_data.to_csv('merged_dataframe.csv', index=False)\n",
    "merged_data.describe()"
   ]
  },
  {
   "cell_type": "code",
   "execution_count": null,
   "id": "a85f61d0-8b1f-4f36-903e-78d00b3193b9",
   "metadata": {
    "editable": true,
    "slideshow": {
     "slide_type": ""
    },
    "tags": []
   },
   "outputs": [],
   "source": []
  },
  {
   "cell_type": "markdown",
   "id": "2c32f15f-8468-4b12-91c5-a1165f192159",
   "metadata": {},
   "source": [
    "## Calculating Q factor"
   ]
  }
 ],
 "metadata": {
  "kernelspec": {
   "display_name": "Python 3 (ipykernel)",
   "language": "python",
   "name": "python3"
  },
  "language_info": {
   "codemirror_mode": {
    "name": "ipython",
    "version": 3
   },
   "file_extension": ".py",
   "mimetype": "text/x-python",
   "name": "python",
   "nbconvert_exporter": "python",
   "pygments_lexer": "ipython3",
   "version": "3.12.3"
  }
 },
 "nbformat": 4,
 "nbformat_minor": 5
}
